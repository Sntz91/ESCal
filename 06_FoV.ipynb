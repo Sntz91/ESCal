{
 "cells": [
  {
   "cell_type": "code",
   "execution_count": null,
   "id": "57afdf00-dce8-4c49-a715-187f586f93f9",
   "metadata": {},
   "outputs": [],
   "source": [
    "# %matplotlib widget\n",
    "import cv2\n",
    "import matplotlib.pyplot as plt\n",
    "import numpy as np\n",
    "import ipywidgets as widgets\n",
    "import pickle\n",
    "import datetime\n",
    "from pathlib import Path\n",
    "from IPython.display import display\n",
    "\n",
    "\n",
    "from utils import (\n",
    "    load_dataset,\n",
    "    get_images,\n",
    "    transform_points,\n",
    "    get_densities,\n",
    "    predict,\n",
    "    calculate_errors,\n",
    "    get_result_dict,\n",
    "    SCALING_FACTOR,\n",
    "    plot_setup, \n",
    "    plot_setup_noised,\n",
    "    plot_predictions,\n",
    "    add_outlier,\n",
    "    get_numpy_arr\n",
    ")"
   ]
  },
  {
   "cell_type": "markdown",
   "id": "63eeb931-ac30-4149-9026-4e1bbadf497a",
   "metadata": {},
   "source": [
    "# Get Fov Points"
   ]
  },
  {
   "cell_type": "code",
   "execution_count": null,
   "id": "c0c5355e-840f-4313-8ff7-7ab18f8d4c40",
   "metadata": {},
   "outputs": [],
   "source": [
    "pv_img = 'IMG_01'\n",
    "tv_img = 'IMG_00'\n",
    "img_pv, img_tv = get_images(pv_img, tv_img)"
   ]
  },
  {
   "cell_type": "code",
   "execution_count": null,
   "id": "c73c43d3-00a5-45a0-b073-2e6f5498b4ce",
   "metadata": {},
   "outputs": [],
   "source": [
    "fov_pts_0026 = [\n",
    "    [8.009250710227207, 3014.859952059659],\n",
    "    [39.4274325284091, 1184.7508611505682],\n",
    "    [1979.5001598011354, 666.3508611505681],\n",
    "    [2270.1183416193176, 909.8417702414772],\n",
    "    [2277.972887073863, 1231.8781338778408],\n",
    "    [2513.609250710226, 1271.1508611505683],\n",
    "    [3102.700159801135, 540.678133877841],\n",
    "    [4029.536523437499, 898.0601917613635],\n",
    "    [4021.6819779829534, 3010.932919034091]\n",
    "]\n",
    "\n",
    "fov_pts_0029 = [[]]\n",
    "fov_pts_0032 = [[]]\n",
    "fov_pts_0032 = [[]]"
   ]
  },
  {
   "cell_type": "markdown",
   "id": "bc26fa73-0dd4-4e49-bd0f-e8b9138a6380",
   "metadata": {},
   "source": [
    "# Draw FoVs"
   ]
  },
  {
   "cell_type": "code",
   "execution_count": null,
   "id": "1f3c6e64-6793-48ad-a01c-49d76213565b",
   "metadata": {},
   "outputs": [],
   "source": [
    "pv_img = 'IMG_01'\n",
    "tv_img = 'IMG_00'\n",
    "fov_pts_pv = fov_pts_0026\n",
    "position = [2719.51263607, 1594.32214866, -551.05376955]\n",
    "\n",
    "img_pv, img_tv = get_images(pv_img, tv_img)"
   ]
  },
  {
   "cell_type": "code",
   "execution_count": null,
   "id": "994c54fc-da14-434f-b194-99807db4707c",
   "metadata": {},
   "outputs": [],
   "source": [
    "reference_pts_pv, reference_pts_tv, validation_pts_pv, validation_pts_tv = load_dataset(pv_img, tv_img)\n",
    "reference_pts_pv_arr, reference_pts_tv_arr, validation_pts_pv_arr, validation_pts_tv_arr = transform_points(\n",
    "        reference_pts_pv, reference_pts_tv, validation_pts_pv, validation_pts_tv)\n",
    "\n",
    "print(reference_pts_pv_arr)\n",
    "print(reference_pts_tv_arr)\n",
    "# Calculate Homography\n",
    "h, _ = cv2.findHomography(\n",
    "    reference_pts_pv_arr,\n",
    "    reference_pts_tv_arr,\n",
    "    # method = cv2.RANSAC,\n",
    "    method = 0,\n",
    ")\n",
    "h_inv = np.linalg.inv(h)"
   ]
  },
  {
   "cell_type": "code",
   "execution_count": null,
   "id": "f2f2ab45-c19f-4a80-965d-cb34f4ba7735",
   "metadata": {},
   "outputs": [],
   "source": [
    "fov_pts_pv_arr = [[pt[0], pt[1], 1] for pt in fov_pts_pv]\n",
    "fov_pts_pv_arr = np.array(fov_pts_pv_arr)"
   ]
  },
  {
   "cell_type": "code",
   "execution_count": null,
   "id": "9ea04726-06f7-429b-8d90-decac000403e",
   "metadata": {},
   "outputs": [],
   "source": [
    "predicted_fov_pts = predict(fov_pts_pv_arr, h)"
   ]
  },
  {
   "cell_type": "code",
   "execution_count": null,
   "id": "45d773fc-d1ea-404a-b72f-6ed394b3152f",
   "metadata": {},
   "outputs": [],
   "source": [
    "fig, axs = plt.subplots(1, 2, figsize=(14, 6))\n",
    "\n",
    "img_tv = cv2.imread('data/images/IMG_00.JPG', cv2.IMREAD_GRAYSCALE)\n",
    "img_pv = cv2.imread('data/images/IMG_01.JPG', cv2.IMREAD_GRAYSCALE)\n",
    "\n",
    "axs[0].imshow(img_pv, cmap='gray', alpha=0.5)\n",
    "#FF6347\n",
    "# axs[0].fill(fov_pts_pv_arr[:, 0], fov_pts_pv_arr[:, 1], c=(1, 99/255, 71/255, 0.4), edgecolor='black')\n",
    "# axs[0].fill(fov_pts_pv_arr[:, 0], fov_pts_pv_arr[:, 1], c=(70/255, 130/255, 180/255, 0.4), edgecolor='black')\n",
    "axs[0].fill(fov_pts_pv_arr[:, 0], fov_pts_pv_arr[:, 1], c=(0.267004, 0.004874, 0.329415, 0.4), edgecolor='black')\n",
    "axs[0].scatter(fov_pts_pv_arr[:, 0], fov_pts_pv_arr[:, 1], marker='o', edgecolors='black', color=(0.267004, 0.004874, 0.329415, 1.0), s=50)\n",
    "# ax.scatter(position[0], position[1], marker='D', edgecolors='black', color='tomato', s=200)\n",
    "axs[0].axis('off')\n",
    "\n",
    "axs[1].imshow(img_tv, cmap='gray', alpha=0.5)\n",
    "# axs[1].fill(predicted_fov_pts[:, 0], predicted_fov_pts[:, 1], c=(70/255, 130/255, 180/255, 0.4), edgecolor='black')\n",
    "axs[1].fill(predicted_fov_pts[:, 0], predicted_fov_pts[:, 1], c=(0.267004, 0.004874, 0.329415, 0.4), edgecolor='black')\n",
    "# axs[1].fill(predicted_fov_pts[:, 0], predicted_fov_pts[:, 1], c=(1, 99/255, 71/255, 0.4), edgecolor='black')\n",
    "axs[1].scatter(predicted_fov_pts[:, 0], predicted_fov_pts[:, 1], marker='o', edgecolors='black', color=(0.267004, 0.004874, 0.329415), s=50)\n",
    "\n",
    "axs[1].scatter(position[0], position[1], marker='H', edgecolors='black', color=(0.267004, 0.004874, 0.329415), s=300)\n",
    "axs[1].axis('off')\n",
    "\n",
    "\n",
    "plt.tight_layout()\n",
    "plt.savefig('output/predicted_fov.png', dpi=100)\n",
    "plt.show()"
   ]
  }
 ],
 "metadata": {
  "kernelspec": {
   "display_name": "ml2",
   "language": "python",
   "name": "ml2"
  },
  "language_info": {
   "codemirror_mode": {
    "name": "ipython",
    "version": 3
   },
   "file_extension": ".py",
   "mimetype": "text/x-python",
   "name": "python",
   "nbconvert_exporter": "python",
   "pygments_lexer": "ipython3",
   "version": "3.12.4"
  }
 },
 "nbformat": 4,
 "nbformat_minor": 5
}
